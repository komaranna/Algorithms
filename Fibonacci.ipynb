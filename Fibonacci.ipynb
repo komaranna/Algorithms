{
 "cells": [
  {
   "cell_type": "code",
   "execution_count": 1,
   "metadata": {
    "collapsed": true
   },
   "outputs": [],
   "source": [
    "def FibonacciExponential(n,f0,f1):\n",
    "    if n==1:\n",
    "        return f1\n",
    "    elif n==0:\n",
    "        return f0\n",
    "    else:\n",
    "        fn = FibonacciExponential(n-1,f0,f1)+FibonacciExponential(n-2,f0,f1)\n",
    "        return fn"
   ]
  },
  {
   "cell_type": "code",
   "execution_count": 10,
   "metadata": {
    "collapsed": false
   },
   "outputs": [
    {
     "name": "stdout",
     "output_type": "stream",
     "text": [
      "0\n",
      "1\n",
      "1\n",
      "2\n",
      "3\n",
      "5\n",
      "8\n",
      "13\n",
      "21\n",
      "34\n"
     ]
    }
   ],
   "source": [
    "for i in range(0,10):\n",
    "    fi = FibonacciExponential(i,0,1)\n",
    "    print fi"
   ]
  },
  {
   "cell_type": "code",
   "execution_count": 18,
   "metadata": {
    "collapsed": true
   },
   "outputs": [],
   "source": [
    "def FibonacciLinear(n,f0,f1):\n",
    "    if n==1:\n",
    "        return f1\n",
    "    elif n==0:\n",
    "        return f0\n",
    "    else:\n",
    "        fi_m1 = f1\n",
    "        fi_m2 = f0\n",
    "        for i in range(2,n+1):\n",
    "            fi = fi_m1 + fi_m2\n",
    "            fi_m2 = fi_m1\n",
    "            fi_m1 = fi\n",
    "        \n",
    "        return fi"
   ]
  },
  {
   "cell_type": "code",
   "execution_count": 21,
   "metadata": {
    "collapsed": false
   },
   "outputs": [
    {
     "name": "stdout",
     "output_type": "stream",
     "text": [
      "0\n",
      "1\n",
      "1\n",
      "2\n",
      "3\n",
      "5\n",
      "8\n",
      "13\n",
      "21\n",
      "34\n"
     ]
    }
   ],
   "source": [
    "for i in range(0,10):\n",
    "    fi = FibonacciLinear(i,0,1)\n",
    "    print fi"
   ]
  },
  {
   "cell_type": "code",
   "execution_count": 50,
   "metadata": {
    "collapsed": true
   },
   "outputs": [],
   "source": [
    "import numpy as np\n",
    "import math"
   ]
  },
  {
   "cell_type": "code",
   "execution_count": 51,
   "metadata": {
    "collapsed": false
   },
   "outputs": [],
   "source": [
    "def PowerFunction(x,n):\n",
    "    if n == 1:\n",
    "        return x\n",
    "    else:\n",
    "        nhalf = int(math.floor(n/2))\n",
    "\n",
    "        half1 = PowerFunction(x,nhalf)\n",
    "        half2 = PowerFunction(x,nhalf)\n",
    "        if nhalf+nhalf == n:\n",
    "            return half1*half2\n",
    "        else:\n",
    "            return half1*half2*x\n",
    "\n",
    "def FibonacciLog(n,f0,f1):\n",
    "    M1 = np.matrix([[f0+f1, f1], [f1, f0]])\n",
    "    if n==1:\n",
    "        return M1[0,1]\n",
    "    elif n==0:\n",
    "        return M1[1,1]\n",
    "    else:\n",
    "        Mn = PowerFunction(M1,n)\n",
    "        return Mn[0,1]\n",
    "    "
   ]
  },
  {
   "cell_type": "code",
   "execution_count": 54,
   "metadata": {
    "collapsed": false
   },
   "outputs": [
    {
     "name": "stdout",
     "output_type": "stream",
     "text": [
      "0\n",
      "1\n",
      "1\n",
      "2\n",
      "3\n",
      "5\n",
      "8\n",
      "13\n",
      "21\n",
      "34\n"
     ]
    }
   ],
   "source": [
    "for i in range(0,10):\n",
    "    fi = FibonacciLog(i,0,1)\n",
    "    print fi"
   ]
  },
  {
   "cell_type": "code",
   "execution_count": null,
   "metadata": {
    "collapsed": true
   },
   "outputs": [],
   "source": []
  }
 ],
 "metadata": {
  "kernelspec": {
   "display_name": "Python 2",
   "language": "python",
   "name": "python2"
  },
  "language_info": {
   "codemirror_mode": {
    "name": "ipython",
    "version": 2
   },
   "file_extension": ".py",
   "mimetype": "text/x-python",
   "name": "python",
   "nbconvert_exporter": "python",
   "pygments_lexer": "ipython2",
   "version": "2.7.13"
  }
 },
 "nbformat": 4,
 "nbformat_minor": 2
}
