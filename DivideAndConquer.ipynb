{
 "cells": [
  {
   "cell_type": "code",
   "execution_count": 1,
   "metadata": {
    "collapsed": true
   },
   "outputs": [],
   "source": [
    "import math"
   ]
  },
  {
   "cell_type": "code",
   "execution_count": 98,
   "metadata": {
    "collapsed": false
   },
   "outputs": [],
   "source": [
    "def BinarySearch(x,srtlist):\n",
    "    length = len(srtlist)\n",
    "    midElement = srtlist[int(math.floor(length/2))]\n",
    "\n",
    "    if x == midElement:\n",
    "        return int(math.floor(length/2))\n",
    "    elif x < midElement:\n",
    "        sublist = srtlist[0:int(math.floor(length/2))]\n",
    "        if sublist == []:\n",
    "            print 'Element not in list, or list is not sorted'\n",
    "            return 0\n",
    "        xIndex = BinarySearch(x,sublist)\n",
    "        return xIndex\n",
    "    elif x > midElement:\n",
    "        sublist = srtlist[int(math.floor(length/2)):length]\n",
    "        if (len(sublist) == 1) & (sublist[0] != x):\n",
    "            print 'Element not in list, or list is not sorted'\n",
    "            return 0\n",
    "        xIndex = int(math.floor(length/2)) + BinarySearch(x,sublist)\n",
    "        return xIndex\n",
    "    \n",
    "        \n",
    "    "
   ]
  },
  {
   "cell_type": "code",
   "execution_count": 106,
   "metadata": {
    "collapsed": false
   },
   "outputs": [
    {
     "data": {
      "text/plain": [
       "5"
      ]
     },
     "execution_count": 106,
     "metadata": {},
     "output_type": "execute_result"
    }
   ],
   "source": [
    "BinarySearch(8,[0,1,3,4,5,8,10,20,22])"
   ]
  },
  {
   "cell_type": "code",
   "execution_count": 109,
   "metadata": {
    "collapsed": true
   },
   "outputs": [],
   "source": [
    "def PowerFunction(x,n):\n",
    "    if n == 1:\n",
    "        return x\n",
    "    else:\n",
    "        nhalf = int(math.floor(n/2))\n",
    "\n",
    "        half1 = PowerFunction(x,nhalf)\n",
    "        half2 = PowerFunction(x,nhalf)\n",
    "        if nhalf+nhalf == n:\n",
    "            return half1*half2\n",
    "        else:\n",
    "            return half1*half2*x"
   ]
  },
  {
   "cell_type": "code",
   "execution_count": 119,
   "metadata": {
    "collapsed": false
   },
   "outputs": [
    {
     "data": {
      "text/plain": [
       "512"
      ]
     },
     "execution_count": 119,
     "metadata": {},
     "output_type": "execute_result"
    }
   ],
   "source": [
    "PowerFunction(2,9)"
   ]
  },
  {
   "cell_type": "code",
   "execution_count": null,
   "metadata": {
    "collapsed": true
   },
   "outputs": [],
   "source": []
  }
 ],
 "metadata": {
  "kernelspec": {
   "display_name": "Python 2",
   "language": "python",
   "name": "python2"
  },
  "language_info": {
   "codemirror_mode": {
    "name": "ipython",
    "version": 2
   },
   "file_extension": ".py",
   "mimetype": "text/x-python",
   "name": "python",
   "nbconvert_exporter": "python",
   "pygments_lexer": "ipython2",
   "version": "2.7.13"
  }
 },
 "nbformat": 4,
 "nbformat_minor": 2
}
