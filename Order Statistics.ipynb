{
 "cells": [
  {
   "cell_type": "code",
   "execution_count": 29,
   "metadata": {
    "collapsed": true
   },
   "outputs": [],
   "source": [
    "import random\n",
    "random.seed()"
   ]
  },
  {
   "cell_type": "code",
   "execution_count": 83,
   "metadata": {
    "collapsed": true
   },
   "outputs": [],
   "source": [
    "def RandomOrderStatistics(unsrtList,k):\n",
    "    length = len(unsrtList)\n",
    "    newPivotIndex = RandomPartition(unsrtList)\n",
    "    \n",
    "    if newPivotIndex == k:\n",
    "        return unsrtList[newPivotIndex]\n",
    "    elif k < newPivotIndex:\n",
    "        newList = unsrtList[0:newPivotIndex]\n",
    "        el = RandomOrderStatistics(newList,k)\n",
    "    else:\n",
    "        newList = unsrtList[newPivotIndex+1:length]\n",
    "        el = RandomOrderStatistics(newList,k-newPivotIndex-1)\n",
    "    \n",
    "    return el\n",
    "    \n",
    "    \n",
    "    \n",
    "def RandomPartition(unsrtList):\n",
    "    length = len(unsrtList)\n",
    "    rndPivotIndex = random.randint(0,length-1)\n",
    "    pivot = unsrtList[rndPivotIndex]\n",
    "    unsrtList = ShiftRight(unsrtList,rndPivotIndex)\n",
    "    for i in range(1,length):\n",
    "        if unsrtList[i] > pivot:\n",
    "            for j in range(i+1,length):\n",
    "                if unsrtList[j] < pivot:\n",
    "                    temp = unsrtList[i]\n",
    "                    unsrtList[i] = unsrtList[j]\n",
    "                    unsrtList[j] = temp\n",
    "\n",
    "    newPivotIndex = GetPivotIndex(unsrtList,pivot)           \n",
    "\n",
    "    unsrtList = ShiftLeft(unsrtList,newPivotIndex)\n",
    "    \n",
    "    return newPivotIndex\n",
    "\n",
    "    \n",
    "def GetPivotIndex(unsrtList,pivot):\n",
    "    length = len(unsrtList)\n",
    "    \n",
    "    newPivotIndex = length-1\n",
    "    for i in range(0,length-1):\n",
    "        if (unsrtList[i] <= pivot) & (unsrtList[i+1] > pivot):\n",
    "            newPivotIndex = i\n",
    "            break\n",
    "            \n",
    "    return newPivotIndex\n",
    "    \n",
    "\n",
    "def ShiftLeft(unsrtList,newPivotIndex):\n",
    "    pivot = unsrtList[0]\n",
    "    for i in range(1,newPivotIndex+1):\n",
    "        unsrtList[i-1] = unsrtList[i]\n",
    "    \n",
    "    unsrtList[newPivotIndex] = pivot\n",
    "    \n",
    "    return unsrtList\n",
    "\n",
    "    \n",
    "def ShiftRight(unsrtList,oldPivotIndex):\n",
    "    pivot = unsrtList[oldPivotIndex]\n",
    "    for i in range(oldPivotIndex,0,-1):\n",
    "        unsrtList[i] = unsrtList[i-1]\n",
    "    \n",
    "    unsrtList[0] = pivot\n",
    "    \n",
    "    return unsrtList"
   ]
  },
  {
   "cell_type": "code",
   "execution_count": 96,
   "metadata": {
    "collapsed": false
   },
   "outputs": [
    {
     "data": {
      "text/plain": [
       "1"
      ]
     },
     "execution_count": 96,
     "metadata": {},
     "output_type": "execute_result"
    }
   ],
   "source": [
    "RandomOrderStatistics([5,4,3,2,1],0)"
   ]
  },
  {
   "cell_type": "code",
   "execution_count": null,
   "metadata": {
    "collapsed": true
   },
   "outputs": [],
   "source": []
  },
  {
   "cell_type": "code",
   "execution_count": null,
   "metadata": {
    "collapsed": true
   },
   "outputs": [],
   "source": []
  }
 ],
 "metadata": {
  "kernelspec": {
   "display_name": "Python 2",
   "language": "python",
   "name": "python2"
  },
  "language_info": {
   "codemirror_mode": {
    "name": "ipython",
    "version": 2
   },
   "file_extension": ".py",
   "mimetype": "text/x-python",
   "name": "python",
   "nbconvert_exporter": "python",
   "pygments_lexer": "ipython2",
   "version": "2.7.13"
  }
 },
 "nbformat": 4,
 "nbformat_minor": 2
}
